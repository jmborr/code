{
 "metadata": {
  "name": "BaSO4"
 }, 
 "name": "BaSO4", 
 "nbformat": 2, 
 "worksheets": [
  {
   "cells": [
    {
     "cell_type": "markdown", 
     "source": "Create DCD trajectories from the LAMMPS trajectories"
    }, 
    {
     "cell_type": "code", 
     "collapsed": true, 
     "input": "%%bash\nPROJD=/projects/research/BaSO4/andrew_simulation\nCODED=/home/jbq/code/projects/BaSO4\n\ncd $PROJD/\nfor temp in 230 240 260 282 300;do\n  python $CODED/BaSO4.py preparing --kwargs \"job=translate to DCD,pdb=q300.pdb,lammpstrj=q${temp}_nopbc.lammpstrj,dcd=q${temp}_nopbc.dcd\"\n  ln -s q${temp}_nopbc.dcd q${temp}.dcd\ndone\npopwindow.py \"finished Create DCD trajectories from the LAMMPS trajectories\"", 
     "language": "python", 
     "outputs": []
    }, 
    {
     "cell_type": "markdown", 
     "source": "Create Sassena input jobs"
    }, 
    {
     "cell_type": "code", 
     "collapsed": true, 
     "input": "%%bash\nPROJD=/projects/research/BaSO4/andrew_simulation\nCODED=/home/jbq/code/projects/BaSO4\n\ncd $PROJD/\nfor temp in 230 240 260 282 300;do\n  cp sassena_inc_template.xml sassena_inc_T${temp}.xml\n  perl -p -i -e \"s/_DCDFILE_/q$temp.dcd/g\" sassena_inc_T${temp}.xml\n  perl -p -i -e \"s/_FQTFILE_/fqt_inc_T${temp}_water.h5/g\" sassena_inc_T${temp}.xml\n  /bin/cp sassena_inc_template.pbs sassena_inc_T${temp}.pbs\n  perl -p -i -e \"s/_XMLFILE_/sassena_inc_T${temp}.xml/g\" sassena_inc_T${temp}.pbs\n  perl -p -i -e \"s/_OUTFILE_/sassena_inc_T${temp}.out/g\" sassena_inc_T${temp}.pbs\n  perl -p -i -e \"s/_TEMP_/$temp/g\" sassena_inc_T${temp}.pbs\ndone\npopwindow.py \"finished BaSO4 reate Sassena input jobs\"", 
     "language": "python", 
     "outputs": []
    }, 
    {
     "cell_type": "markdown", 
     "source": "Add version and Q-sort the fqt files output from sassena"
    }, 
    {
     "cell_type": "code", 
     "collapsed": true, 
     "input": "%%bash\nPROJD=/projects/research/BaSO4/andrew_simulation\nCODED=/home/jbq/code/projects/BaSO4\n\ncd $PROJD/\nfor temp in 230 240 260 282 300;do\n  python ~/code/python/mysassena/version.py --filename fqt_inc_T${temp}_water.h5\n  python ~/code/python/mysassena/orderByQmodulus.py --filename fqt_inc_T${temp}_water.h5 --outfile junk.h5\n  /bin/mv junk.h5 fqt_inc_T${temp}_water.h5\ndone\npopwindow.py \"finished BaSO4 reate Add version and Q-sort the fqt files output from sassena\"", 
     "language": "python", 
     "outputs": []
    }, 
    {
     "cell_type": "markdown", 
     "source": "MantidPlot script to generate the **fits** between calculated fqt_inc_T???_water.h5 files and the experimental data"
    }, 
    {
     "cell_type": "code", 
     "collapsed": true, 
     "input": "expdir='/projects/research/BaSO4/expdata'\nsimdir='/projects/research/BaSO4/andrew_simulation'\nLoadDaveGrp(Filename='%s/resolution.dat'%expdir,OutputWorkspace='res',XAxisUnits='DeltaE',YAxisUnits='Empty',IsMicroEV=1)\nRebin(InputWorkspace='res',OutputWorkspace='res',Params=(-0.2,0.0004,0.5))\n\nfor temp in '230 240 260 282 300'.split():\n    LoadDaveGrp(Filename='%s/q%s.dat'%(expdir,temp),OutputWorkspace='exp%s'%temp,XAxisUnits='DeltaE',YAxisUnits='Empty',IsMicroEV=1)\n    LoadSassena(Filename='%s/fqt_inc_T%s_water.h5'%(expdir,temp),OutputWorkspace='sim%s'%temp,TimeUnit=0.1)\n    SassenaFFT(InputWorkspace='sim%s'%temp,FFTonlyRealPart=1,DetailedBalance=1,Temp=float(temp))\n    SumSpectra(InputWorkspace='sim%s_sqw'%temp,OutputWorkspace='sumQ%s'%temp)\n    Scale(InputWorkspace='sumQ%s'%temp,OutputWorkspace='sumQ%s'%temp, Factor=1e-9, Operation='Multiply')\n    Rebin(InputWorkspace='sumQ%s'%temp,OutputWorkspace='sumQ%s'%temp,Params=(-0.2,0.0004,0.5))\n    fitstr='name=TabulatedFunction,Workspace=res,Scaling=1;(composite=Convolution;name=TabulatedFunction,Workspace=res,Scaling=1,ties=(Scaling=1);name=TabulatedFunction,Workspace=sumQ%s,Scaling=1);name=LinearBackground,A0=1e-05,A1=1e-05'%temp  \n    SaveNexus(InputWorkspace='exp%s_Workspace'%temp,Filename='%s/fit2exp_T%s_water_Workspace.nxs'%(simdir,temp),Title='Structure factors for the fit of fqt_inc_T%s_water.h5 to experiment'%(temp))\n    SaveNexus(InputWorkspace='exp%s_Parameters'%temp,Filename='%s/fit2exp_T%s_water_Parameters.nxs'%(simdir,temp),Title='Parameters for the fit of fqt_inc_T%s_water.h5 to experiment'%(temp))\n    SaveNexus(InputWorkspace='exp%s_NormalisedCovarianceMatrix'%temp,Filename='%s/fit2exp_T%s_water_NormalisedCovarianceMatrix.nxs'%(simdir,temp),Title='Normalised covariance matrix for the fit of fqt_inc_T%s_water.h5 to experiment'%(temp))", 
     "language": "python", 
     "outputs": []
    }
   ]
  }
 ]
}