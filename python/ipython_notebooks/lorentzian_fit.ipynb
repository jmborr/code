{
 "metadata": {
  "name": "lorentzian_fit"
 },
 "nbformat": 3,
 "nbformat_minor": 0,
 "worksheets": [
  {
   "cells": [
    {
     "cell_type": "markdown",
     "metadata": {},
     "source": [
      "Python script to fit reduced data from BASIS"
     ]
    },
    {
     "cell_type": "markdown",
     "metadata": {},
     "source": [
      "Here insert the location of the experimental file and the resolution file. There are also strings representing different fitting models"
     ]
    },
    {
     "cell_type": "code",
     "collapsed": false,
     "input": [
      "experiment='/SNS/users/jbq/Documents/test_exp/exp2_0.nxs' # experiment signal file\n",
      "resolution='/SNS/users/jbq/Documents/test_exp/exp_0.nxs' # resolution file\n",
      "\n",
      "one_lorentzian_plus_linear_background=\"\"\"(composite=Convolution;\n",
      "name=TabulatedFunction,Workspace=_RESOLUTION_,Scaling=1;\n",
      "(name=DeltaFunction,Height=1;\n",
      "name=Lorentzian,Height=1,PeakCentre=0,HWHM=0.01));\n",
      "name=LinearBackground,A0=0,A1=0\n",
      "\"\"\".replace('\\n','')\n",
      "\n",
      "two_lorentzian_plus_linear_background=\"\"\"(composite=Convolution;\n",
      "name=TabulatedFunction,FileName=\"\",Workspace=exp_0,Scaling=1;\n",
      "(name=DeltaFunction,Height=1;\n",
      "name=Lorentzian,Height=1,PeakCentre=0,HWHM=0.01;\n",
      "name=Lorentzian,Height=0,PeakCentre=0,HWHM=0.01));\n",
      "name=LinearBackground,A0=0,A1=0\n",
      "\"\"\".replace('\\n','')\n"
     ],
     "language": "python",
     "metadata": {},
     "outputs": []
    },
    {
     "cell_type": "markdown",
     "metadata": {},
     "source": [
      "Fit experimental data, one Q-value at a time. For every fit, the following workspaces are created:\n",
      "<ul>\n",
      "<li>experiment_i_Parameters: table workspace containing the fitting parameters</li>\n",
      "<li>experiment_i_Workspace: histrogram workspace containing the experimental, fitted, and residual lines</li>\n",
      "<li>experiment_i_NormalisedCovariantMatrix: table workspace containing the covariance between the fitting parameters</li>\n",
      "</ul>"
     ]
    },
    {
     "cell_type": "code",
     "collapsed": false,
     "input": [
      "selected_model=one_lorentzian_plus_linear_background\n",
      "\n",
      "import sys,pdb\n",
      "if \"/opt/Mantid/bin\" not in sys.path: sys.path.append(\"/opt/Mantid/bin\")\n",
      "from mantid.simpleapi import Load, ExtractSingleSpectrum, Fit\n",
      "\n",
      "exp=Load(Filename=experiment,OutputWorkspace='experiment')\n",
      "res=Load(Filename=resolution,OutputWorkspace='resolution')\n",
      "nspectra=exp.getNumberHistograms() # number of Q-values\n",
      "q_values=[]\n",
      "for ispectra in range(nspectra):\n",
      "    iexp=ExtractSingleSpectrum(InputWorkspace='experiment', OutputWorkspace='experiment_%d'%ispectra, WorkSpaceIndex=ispectra)\n",
      "    q_values.append(iexp.getAxis(1).getValue(0))\n",
      "    ires=ExtractSingleSpectrum(InputWorkspace='resolution', OutputWorkspace='resolution_%d'%ispectra, WorkSpaceIndex=ispectra)\n",
      "    model=selected_model.replace('_RESOLUTION_', 'resolution_%d'%ispectra) # every Q-value has its own resolution line\n",
      "    Fit(model, InputWorkspace='experiment_%d'%ispectra, CreateOutput='1' )\n",
      "print q_values"
     ],
     "language": "python",
     "metadata": {},
     "outputs": []
    },
    {
     "cell_type": "markdown",
     "metadata": {},
     "source": [
      "Plot a fitting parameter versus Q-value"
     ]
    },
    {
     "cell_type": "code",
     "collapsed": false,
     "input": [
      "name='HWHM' # let's plot the width of the Lorentzian\n",
      "\n",
      "def extractParam(params,name):\n",
      "    \"\"\"Helper function to extract a parameter from the parameter table workspace\"\"\"\n",
      "    nparams=params.rowCount() # number of fitting parameters\n",
      "    for irow in range(nparams):\n",
      "        if name in params.row(irow)['Name']:\n",
      "            return params.row(irow)['Value'], params.row(irow)['Error']\n",
      "    return 0.,0. # if parameter not found\n",
      " \n",
      "from mantid import mtd\n",
      "y_values=[]\n",
      "e_values=[]\n",
      "if selected_model==one_lorentzian_plus_linear_background:\n",
      "    for ispectra in range(nspectra):\n",
      "        params=params_workspace=mtd['experiment_%s_Parameters'%ispectra] # Table workspace containing the parameters\n",
      "        y,e=extractParam(params,name)  #extract HWMH and error\n",
      "        y_values.append(y)\n",
      "        e_values.append(e)\n",
      "\n",
      "# classes and methods from matplotlib library\n",
      "figure=pyplot.figure()\n",
      "figure.suptitle('test title')\n",
      "pyplot.xlabel('Q (A-1)')\n",
      "pyplot.ylabel(name)\n",
      "pyplot.plot(q_values, y_values, linestyle=\"dashed\", marker=\"o\", color=\"green\")\n",
      "pyplot.errorbar(q_values, y_values, yerr=e_values, linestyle=\"None\", marker=\"None\", color=\"green\")\n",
      "        "
     ],
     "language": "python",
     "metadata": {},
     "outputs": []
    },
    {
     "cell_type": "code",
     "collapsed": false,
     "input": [],
     "language": "python",
     "metadata": {},
     "outputs": []
    }
   ],
   "metadata": {}
  }
 ]
}